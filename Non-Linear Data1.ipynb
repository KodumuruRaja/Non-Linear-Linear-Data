{
  "nbformat": 4,
  "nbformat_minor": 0,
  "metadata": {
    "colab": {
      "name": "Linear/NonLinear1.ipynb",
      "provenance": [],
      "collapsed_sections": [],
      "authorship_tag": "ABX9TyMfq4EJ9osWkleSAyBvEvVP",
      "include_colab_link": true
    },
    "kernelspec": {
      "name": "python3",
      "display_name": "Python 3"
    }
  },
  "cells": [
    {
      "cell_type": "markdown",
      "metadata": {
        "id": "view-in-github",
        "colab_type": "text"
      },
      "source": [
        "<a href=\"https://colab.research.google.com/github/KodumuruRaja/Non-Linear-Linear-Data/blob/main/Non-Linear%20Data1.ipynb\" target=\"_parent\"><img src=\"https://colab.research.google.com/assets/colab-badge.svg\" alt=\"Open In Colab\"/></a>"
      ]
    },
    {
      "cell_type": "code",
      "metadata": {
        "id": "bA2J1_awpLTt"
      },
      "source": [
        "import numpy as np\r\n",
        "import pandas as pd\r\n",
        "import matplotlib.pyplot as plt"
      ],
      "execution_count": null,
      "outputs": []
    },
    {
      "cell_type": "code",
      "metadata": {
        "id": "yqEzGImnpxIT"
      },
      "source": [
        "data=pd.read_csv(\"/content/cars.csv\")"
      ],
      "execution_count": null,
      "outputs": []
    },
    {
      "cell_type": "code",
      "metadata": {
        "colab": {
          "base_uri": "https://localhost:8080/",
          "height": 195
        },
        "id": "qsXl2rlzp4wG",
        "outputId": "8235287f-0702-4f8f-a727-0fddeb136113"
      },
      "source": [
        "data.head()"
      ],
      "execution_count": null,
      "outputs": [
        {
          "output_type": "execute_result",
          "data": {
            "text/html": [
              "<div>\n",
              "<style scoped>\n",
              "    .dataframe tbody tr th:only-of-type {\n",
              "        vertical-align: middle;\n",
              "    }\n",
              "\n",
              "    .dataframe tbody tr th {\n",
              "        vertical-align: top;\n",
              "    }\n",
              "\n",
              "    .dataframe thead th {\n",
              "        text-align: right;\n",
              "    }\n",
              "</style>\n",
              "<table border=\"1\" class=\"dataframe\">\n",
              "  <thead>\n",
              "    <tr style=\"text-align: right;\">\n",
              "      <th></th>\n",
              "      <th>make</th>\n",
              "      <th>model</th>\n",
              "      <th>priceUSD</th>\n",
              "      <th>year</th>\n",
              "      <th>condition</th>\n",
              "      <th>mileage(kilometers)</th>\n",
              "      <th>fuel_type</th>\n",
              "      <th>volume(cm3)</th>\n",
              "      <th>color</th>\n",
              "      <th>transmission</th>\n",
              "      <th>drive_unit</th>\n",
              "      <th>segment</th>\n",
              "    </tr>\n",
              "  </thead>\n",
              "  <tbody>\n",
              "    <tr>\n",
              "      <th>0</th>\n",
              "      <td>mazda</td>\n",
              "      <td>2</td>\n",
              "      <td>5500</td>\n",
              "      <td>2008</td>\n",
              "      <td>with mileage</td>\n",
              "      <td>162000.0</td>\n",
              "      <td>petrol</td>\n",
              "      <td>1500.0</td>\n",
              "      <td>burgundy</td>\n",
              "      <td>mechanics</td>\n",
              "      <td>front-wheel drive</td>\n",
              "      <td>B</td>\n",
              "    </tr>\n",
              "    <tr>\n",
              "      <th>1</th>\n",
              "      <td>mazda</td>\n",
              "      <td>2</td>\n",
              "      <td>5350</td>\n",
              "      <td>2009</td>\n",
              "      <td>with mileage</td>\n",
              "      <td>120000.0</td>\n",
              "      <td>petrol</td>\n",
              "      <td>1300.0</td>\n",
              "      <td>black</td>\n",
              "      <td>mechanics</td>\n",
              "      <td>front-wheel drive</td>\n",
              "      <td>B</td>\n",
              "    </tr>\n",
              "    <tr>\n",
              "      <th>2</th>\n",
              "      <td>mazda</td>\n",
              "      <td>2</td>\n",
              "      <td>7000</td>\n",
              "      <td>2009</td>\n",
              "      <td>with mileage</td>\n",
              "      <td>61000.0</td>\n",
              "      <td>petrol</td>\n",
              "      <td>1500.0</td>\n",
              "      <td>silver</td>\n",
              "      <td>auto</td>\n",
              "      <td>front-wheel drive</td>\n",
              "      <td>B</td>\n",
              "    </tr>\n",
              "    <tr>\n",
              "      <th>3</th>\n",
              "      <td>mazda</td>\n",
              "      <td>2</td>\n",
              "      <td>3300</td>\n",
              "      <td>2003</td>\n",
              "      <td>with mileage</td>\n",
              "      <td>265000.0</td>\n",
              "      <td>diesel</td>\n",
              "      <td>1400.0</td>\n",
              "      <td>white</td>\n",
              "      <td>mechanics</td>\n",
              "      <td>front-wheel drive</td>\n",
              "      <td>B</td>\n",
              "    </tr>\n",
              "    <tr>\n",
              "      <th>4</th>\n",
              "      <td>mazda</td>\n",
              "      <td>2</td>\n",
              "      <td>5200</td>\n",
              "      <td>2008</td>\n",
              "      <td>with mileage</td>\n",
              "      <td>97183.0</td>\n",
              "      <td>diesel</td>\n",
              "      <td>1400.0</td>\n",
              "      <td>gray</td>\n",
              "      <td>mechanics</td>\n",
              "      <td>front-wheel drive</td>\n",
              "      <td>B</td>\n",
              "    </tr>\n",
              "  </tbody>\n",
              "</table>\n",
              "</div>"
            ],
            "text/plain": [
              "    make model  priceUSD  ...  transmission         drive_unit  segment\n",
              "0  mazda     2      5500  ...     mechanics  front-wheel drive        B\n",
              "1  mazda     2      5350  ...     mechanics  front-wheel drive        B\n",
              "2  mazda     2      7000  ...          auto  front-wheel drive        B\n",
              "3  mazda     2      3300  ...     mechanics  front-wheel drive        B\n",
              "4  mazda     2      5200  ...     mechanics  front-wheel drive        B\n",
              "\n",
              "[5 rows x 12 columns]"
            ]
          },
          "metadata": {
            "tags": []
          },
          "execution_count": 12
        }
      ]
    },
    {
      "cell_type": "code",
      "metadata": {
        "id": "rtYGoKmEp69y"
      },
      "source": [
        "x=data['priceUSD']"
      ],
      "execution_count": null,
      "outputs": []
    },
    {
      "cell_type": "code",
      "metadata": {
        "id": "KdOuppIGqC21"
      },
      "source": [
        "y=data['mileage(kilometers)']"
      ],
      "execution_count": null,
      "outputs": []
    },
    {
      "cell_type": "code",
      "metadata": {
        "colab": {
          "base_uri": "https://localhost:8080/"
        },
        "id": "vkg9khdoqHRf",
        "outputId": "cb87f3e7-4780-49d0-b004-3e3a0ad95dfd"
      },
      "source": [
        "data.shape"
      ],
      "execution_count": null,
      "outputs": [
        {
          "output_type": "execute_result",
          "data": {
            "text/plain": [
              "(56244, 12)"
            ]
          },
          "metadata": {
            "tags": []
          },
          "execution_count": 16
        }
      ]
    },
    {
      "cell_type": "code",
      "metadata": {
        "colab": {
          "base_uri": "https://localhost:8080/",
          "height": 284
        },
        "id": "hCvdmkZdqTL_",
        "outputId": "681fd9e6-75de-47b9-870c-3156922acf7c"
      },
      "source": [
        "data.describe()"
      ],
      "execution_count": null,
      "outputs": [
        {
          "output_type": "execute_result",
          "data": {
            "text/html": [
              "<div>\n",
              "<style scoped>\n",
              "    .dataframe tbody tr th:only-of-type {\n",
              "        vertical-align: middle;\n",
              "    }\n",
              "\n",
              "    .dataframe tbody tr th {\n",
              "        vertical-align: top;\n",
              "    }\n",
              "\n",
              "    .dataframe thead th {\n",
              "        text-align: right;\n",
              "    }\n",
              "</style>\n",
              "<table border=\"1\" class=\"dataframe\">\n",
              "  <thead>\n",
              "    <tr style=\"text-align: right;\">\n",
              "      <th></th>\n",
              "      <th>priceUSD</th>\n",
              "      <th>year</th>\n",
              "      <th>mileage(kilometers)</th>\n",
              "      <th>volume(cm3)</th>\n",
              "    </tr>\n",
              "  </thead>\n",
              "  <tbody>\n",
              "    <tr>\n",
              "      <th>count</th>\n",
              "      <td>56244.000000</td>\n",
              "      <td>56244.000000</td>\n",
              "      <td>5.624400e+04</td>\n",
              "      <td>56197.000000</td>\n",
              "    </tr>\n",
              "    <tr>\n",
              "      <th>mean</th>\n",
              "      <td>7415.456440</td>\n",
              "      <td>2003.454840</td>\n",
              "      <td>2.443956e+05</td>\n",
              "      <td>2104.860615</td>\n",
              "    </tr>\n",
              "    <tr>\n",
              "      <th>std</th>\n",
              "      <td>8316.959261</td>\n",
              "      <td>8.144247</td>\n",
              "      <td>3.210307e+05</td>\n",
              "      <td>959.201633</td>\n",
              "    </tr>\n",
              "    <tr>\n",
              "      <th>min</th>\n",
              "      <td>48.000000</td>\n",
              "      <td>1910.000000</td>\n",
              "      <td>0.000000e+00</td>\n",
              "      <td>500.000000</td>\n",
              "    </tr>\n",
              "    <tr>\n",
              "      <th>25%</th>\n",
              "      <td>2350.000000</td>\n",
              "      <td>1998.000000</td>\n",
              "      <td>1.370000e+05</td>\n",
              "      <td>1600.000000</td>\n",
              "    </tr>\n",
              "    <tr>\n",
              "      <th>50%</th>\n",
              "      <td>5350.000000</td>\n",
              "      <td>2004.000000</td>\n",
              "      <td>2.285000e+05</td>\n",
              "      <td>1996.000000</td>\n",
              "    </tr>\n",
              "    <tr>\n",
              "      <th>75%</th>\n",
              "      <td>9807.500000</td>\n",
              "      <td>2010.000000</td>\n",
              "      <td>3.100000e+05</td>\n",
              "      <td>2300.000000</td>\n",
              "    </tr>\n",
              "    <tr>\n",
              "      <th>max</th>\n",
              "      <td>235235.000000</td>\n",
              "      <td>2019.000000</td>\n",
              "      <td>9.999999e+06</td>\n",
              "      <td>20000.000000</td>\n",
              "    </tr>\n",
              "  </tbody>\n",
              "</table>\n",
              "</div>"
            ],
            "text/plain": [
              "            priceUSD          year  mileage(kilometers)   volume(cm3)\n",
              "count   56244.000000  56244.000000         5.624400e+04  56197.000000\n",
              "mean     7415.456440   2003.454840         2.443956e+05   2104.860615\n",
              "std      8316.959261      8.144247         3.210307e+05    959.201633\n",
              "min        48.000000   1910.000000         0.000000e+00    500.000000\n",
              "25%      2350.000000   1998.000000         1.370000e+05   1600.000000\n",
              "50%      5350.000000   2004.000000         2.285000e+05   1996.000000\n",
              "75%      9807.500000   2010.000000         3.100000e+05   2300.000000\n",
              "max    235235.000000   2019.000000         9.999999e+06  20000.000000"
            ]
          },
          "metadata": {
            "tags": []
          },
          "execution_count": 17
        }
      ]
    },
    {
      "cell_type": "code",
      "metadata": {
        "colab": {
          "base_uri": "https://localhost:8080/",
          "height": 295
        },
        "id": "GnVaXdHSqU7_",
        "outputId": "4a92b632-271b-4119-c323-8fc468c37a8d"
      },
      "source": [
        "plt.scatter(x,y,color='red',marker='x')\r\n",
        "plt.xlabel(\"Price\")\r\n",
        "plt.ylabel(\"mileage\")\r\n",
        "plt.title(\"Price VS mileage\")\r\n",
        "plt.show()"
      ],
      "execution_count": null,
      "outputs": [
        {
          "output_type": "display_data",
          "data": {
            "image/png": "[encoded data removed]",
            "text/plain": [
              "<Figure size 432x288 with 1 Axes>"
            ]
          },
          "metadata": {
            "tags": [],
            "needs_background": "light"
          }
        }
      ]
    },
    {
      "cell_type": "code",
      "metadata": {
        "colab": {
          "base_uri": "https://localhost:8080/",
          "height": 295
        },
        "id": "-irWf50WxA8A",
        "outputId": "0672e686-4752-422c-bad4-634683ca2eda"
      },
      "source": [
        "plt.scatter(x[:100],y[:100],color='red',marker='o')\r\n",
        "plt.scatter(x[100:200],y[100:200],color='black',marker='x')\r\n",
        "plt.xlabel(\"Price\")\r\n",
        "plt.ylabel(\"mileage\")\r\n",
        "plt.title(\"Price VS mileage\")\r\n",
        "plt.show()"
      ],
      "execution_count": null,
      "outputs": [
        {
          "output_type": "display_data",
          "data": {
            "image/png": "[encoded data removed]",
            "text/plain": [
              "<Figure size 432x288 with 1 Axes>"
            ]
          },
          "metadata": {
            "tags": [],
            "needs_background": "light"
          }
        }
      ]
    },
    {
      "cell_type": "code",
      "metadata": {
        "colab": {
          "base_uri": "https://localhost:8080/"
        },
        "id": "3FyfGKT5sCpg",
        "outputId": "0edc30f3-4bec-4321-e09f-0c281c875601"
      },
      "source": [
        "set('year')"
      ],
      "execution_count": null,
      "outputs": [
        {
          "output_type": "execute_result",
          "data": {
            "text/plain": [
              "{'a', 'e', 'r', 'y'}"
            ]
          },
          "metadata": {
            "tags": []
          },
          "execution_count": 20
        }
      ]
    },
    {
      "cell_type": "code",
      "metadata": {
        "colab": {
          "base_uri": "https://localhost:8080/"
        },
        "id": "dwItDwYLtk96",
        "outputId": "1b06ba94-4e4a-4a9e-c7c8-8ec4c0e88449"
      },
      "source": [
        "set('segment')"
      ],
      "execution_count": null,
      "outputs": [
        {
          "output_type": "execute_result",
          "data": {
            "text/plain": [
              "{'e', 'g', 'm', 'n', 's', 't'}"
            ]
          },
          "metadata": {
            "tags": []
          },
          "execution_count": 21
        }
      ]
    },
    {
      "cell_type": "code",
      "metadata": {
        "colab": {
          "base_uri": "https://localhost:8080/",
          "height": 530
        },
        "id": "0QkMeRwGtt7C",
        "outputId": "54ff3e01-b611-4f13-db88-2876ede1fe49"
      },
      "source": [
        "# General imports\r\n",
        "import numpy as np\r\n",
        "import pandas as pd\r\n",
        "import matplotlib.pyplot as plt\r\n",
        "\r\n",
        "# Generating data\r\n",
        "X = np.random.randn(100,1)\r\n",
        "c = np.random.uniform(-10,10,(100,))\r\n",
        "# adding another linear column\r\n",
        "X = np.hstack((X, 4*X))\r\n",
        "\r\n",
        "Y = (4*X[:,1] + c)\r\n",
        "\r\n",
        "plt.scatter(X[:, 0], Y)\r\n",
        "plt.show()\r\n",
        "plt.scatter(X[:, 1], Y)\r\n",
        "plt.show()\r\n",
        "# Applying linear reg\r\n",
        "from sklearn.linear_model import LinearRegression\r\n",
        "regressor = LinearRegression().fit(X, Y)\r\n",
        "# Checking the accuracy\r\n",
        "from sklearn.metrics import r2_score\r\n",
        "print(r2_score(regressor.predict(X), Y))"
      ],
      "execution_count": null,
      "outputs": [
        {
          "output_type": "display_data",
          "data": {
            "image/png": "[encoded data removed]",
            "text/plain": [
              "<Figure size 432x288 with 1 Axes>"
            ]
          },
          "metadata": {
            "tags": [],
            "needs_background": "light"
          }
        },
        {
          "output_type": "display_data",
          "data": {
            "image/png": "[encoded data removed]",
            "text/plain": [
              "<Figure size 432x288 with 1 Axes>"
            ]
          },
          "metadata": {
            "tags": [],
            "needs_background": "light"
          }
        },
        {
          "output_type": "stream",
          "text": [
            "0.9024494857520642\n"
          ],
          "name": "stdout"
        }
      ]
    },
    {
      "cell_type": "code",
      "metadata": {
        "id": "B9UupkIcuKNm"
      },
      "source": [
        ""
      ],
      "execution_count": null,
      "outputs": []
    }
  ]
}